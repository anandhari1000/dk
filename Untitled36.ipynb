{
  "nbformat": 4,
  "nbformat_minor": 0,
  "metadata": {
    "colab": {
      "provenance": []
    },
    "kernelspec": {
      "name": "python3",
      "display_name": "Python 3"
    },
    "language_info": {
      "name": "python"
    }
  },
  "cells": [
    {
      "cell_type": "code",
      "execution_count": null,
      "metadata": {
        "id": "Wj-miJ1JDHqH"
      },
      "outputs": [],
      "source": [
        "import spacy\n",
        "nlp=spacy.load('en_core_web_sm')"
      ]
    },
    {
      "cell_type": "code",
      "source": [
        "text=\"My name is Anand Harikumar\"\n",
        "doc=nlp(text)"
      ],
      "metadata": {
        "id": "mkXjlxWhE-90"
      },
      "execution_count": null,
      "outputs": []
    },
    {
      "cell_type": "code",
      "source": [
        "triples = []\n",
        "\n",
        "for sentence in doc.sents:\n",
        "    for chunk in sentence.noun_chunks:\n",
        "        subject = chunk.text\n",
        "        for token in chunk:\n",
        "            if token.dep_ == 'ROOT':\n",
        "                predicate = token.lemma_\n",
        "                for child in token.children:\n",
        "                    if child.ent_type_ == 'PERSON' or child.ent_type_ == 'ORG':\n",
        "                        object = child.text\n",
        "                        triple = (subject, predicate, object)\n",
        "                        triples.append(triple)"
      ],
      "metadata": {
        "id": "olMQqkRqFJxM"
      },
      "execution_count": null,
      "outputs": []
    },
    {
      "cell_type": "code",
      "source": [
        "for triple in triples:\n",
        "  print(triple)"
      ],
      "metadata": {
        "id": "Rusek_wTFzvN"
      },
      "execution_count": null,
      "outputs": []
    },
    {
      "cell_type": "code",
      "source": [
        "import networkx as nx\n",
        "import matplotlib.pyplot as plt"
      ],
      "metadata": {
        "id": "5PVU26pOGklq"
      },
      "execution_count": null,
      "outputs": []
    },
    {
      "cell_type": "code",
      "source": [
        "G=nx.Graph()\n",
        "G.add_node('A')\n",
        "G.add_node('B')\n",
        "G.add_node('C')\n",
        "G.add_node('D')\n",
        "G.add_edge('A','B')\n",
        "G.add_edge('B','C')\n",
        "G.add_edge('C','D')\n",
        "G.add_edge('D','A')"
      ],
      "metadata": {
        "id": "Tj-mdFRQGs9m"
      },
      "execution_count": null,
      "outputs": []
    },
    {
      "cell_type": "code",
      "source": [
        "pos=nx.circular_layout(G)\n",
        "nx.draw(G,pos,node_size=1000,node_color='lightblue',edge_color='gray',with_labels=True)\n",
        "plt.show()"
      ],
      "metadata": {
        "colab": {
          "base_uri": "https://localhost:8080/",
          "height": 516
        },
        "id": "zt3JIat3JF2X",
        "outputId": "8a944daf-67b9-4414-e889-11e80b48a904"
      },
      "execution_count": null,
      "outputs": [
        {
          "output_type": "display_data",
          "data": {
            "text/plain": [
              "<Figure size 640x480 with 1 Axes>"
            ],
            "image/png": "[encoded data removed]"
          },
          "metadata": {}
        }
      ]
    }
  ]
}